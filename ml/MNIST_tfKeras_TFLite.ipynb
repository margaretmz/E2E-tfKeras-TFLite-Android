{
  "nbformat": 4,
  "nbformat_minor": 0,
  "metadata": {
    "colab": {
      "name": "MNIST_tfKeras_TFLite.ipynb",
      "provenance": [],
      "collapsed_sections": [],
      "toc_visible": true,
      "include_colab_link": true
    },
    "kernelspec": {
      "name": "python3",
      "display_name": "Python 3"
    },
    "accelerator": "GPU"
  },
  "cells": [
    {
      "cell_type": "markdown",
      "metadata": {
        "id": "view-in-github",
        "colab_type": "text"
      },
      "source": [
        "<a href=\"https://colab.research.google.com/github/margaretmz/E2E-tfKeras-TFLite-Android/blob/master/ml/MNIST_tfKeras_TFLite.ipynb\" target=\"_parent\"><img src=\"https://colab.research.google.com/assets/colab-badge.svg\" alt=\"Open In Colab\"/></a>"
      ]
    },
    {
      "cell_type": "markdown",
      "metadata": {
        "id": "oY3YSP69c8Hr",
        "colab_type": "text"
      },
      "source": [
        "# End to End: tf.Keras to TFLite to Android with MNIST\n",
        "\n",
        "By Margaret Maynard-Reid - created on 1/29/2019 and updated on 11/6/2019\n",
        "\n",
        "This tutorial demonstrates the end to end process of how to:\n",
        "\n",
        "*   train a simple CNN model to classify MNIST digit with [tf.keras],(https://www.tensorflow.org/guide/keras)\n",
        "*   save a Keras model,\n",
        "*   convert the Keras model to tflite with the TOCO converter,\n",
        "*   download the tflite model for deploying to a DigitRecognizer Android app.\n",
        "\n"
      ]
    },
    {
      "cell_type": "markdown",
      "metadata": {
        "id": "S2qmIQonBWmB",
        "colab_type": "toc"
      },
      "source": [
        ">[End to End: tf.Keras to TFLite to Android with MNIST](#scrollTo=oY3YSP69c8Hr)\n",
        "\n",
        ">>[Data](#scrollTo=E9RImw1qa-DH)\n",
        "\n",
        ">>>[Get MNIST dataset](#scrollTo=P4vs-cagt0XD)\n",
        "\n",
        ">>>[Preprocess data](#scrollTo=0P1C_0ZXux7N)\n",
        "\n",
        ">>[Model training](#scrollTo=4mlybelBbT0r)\n",
        "\n",
        ">>>[Define the model architecture](#scrollTo=JEkp9ZrNwCl0)\n",
        "\n",
        ">>>[Inspect the model architecture](#scrollTo=RVkPFj5D_qRy)\n",
        "\n",
        ">>>[Train the model](#scrollTo=o94eQubW6EMb)\n",
        "\n",
        ">>[Model conversion](#scrollTo=ueEWfvF1bSZX)\n",
        "\n",
        ">>>[S̶a̶v̶e̶ ̶a̶ ̶K̶e̶r̶a̶s̶ ̶m̶o̶d̶e̶l̶ (not needed in TF 2.0)](#scrollTo=1x0Cxiyb25KA)\n",
        "\n",
        ">>>[Convert Keras model to TensorFlow Lite](#scrollTo=yi9B0yFR5J1b)\n",
        "\n",
        ">>>[Download the tflite model for Android](#scrollTo=2lrX0Bj97jor)\n",
        "\n"
      ]
    },
    {
      "cell_type": "code",
      "metadata": {
        "id": "4Da1szfTk1Px",
        "colab_type": "code",
        "colab": {
          "base_uri": "https://localhost:8080/",
          "height": 52
        },
        "outputId": "cc7bbbee-ffb3-4c60-dc73-62934368dd22"
      },
      "source": [
        "# Select Tensorflow 2.x version in Colab\n",
        "%tensorflow_version 2.x\n",
        "\n",
        "# Import TensorFlow and tf.keras\n",
        "import tensorflow as tf\n",
        "keras = tf.keras\n",
        "\n",
        "# Import helper libraries\n",
        "import numpy as np\n",
        "import matplotlib.pyplot as plt\n",
        "\n",
        "# Print TensorFlow version\n",
        "tf.__version__"
      ],
      "execution_count": 1,
      "outputs": [
        {
          "output_type": "stream",
          "text": [
            "TensorFlow 2.x selected.\n"
          ],
          "name": "stdout"
        },
        {
          "output_type": "execute_result",
          "data": {
            "text/plain": [
              "'2.0.0'"
            ]
          },
          "metadata": {
            "tags": []
          },
          "execution_count": 1
        }
      ]
    },
    {
      "cell_type": "markdown",
      "metadata": {
        "id": "E9RImw1qa-DH",
        "colab_type": "text"
      },
      "source": [
        "## Data\n",
        "We will use the MNIST dataset for training the image classifier."
      ]
    },
    {
      "cell_type": "markdown",
      "metadata": {
        "id": "P4vs-cagt0XD",
        "colab_type": "text"
      },
      "source": [
        "### Get MNIST dataset"
      ]
    },
    {
      "cell_type": "code",
      "metadata": {
        "id": "o3tavj6Dtpx3",
        "colab_type": "code",
        "colab": {
          "base_uri": "https://localhost:8080/",
          "height": 69
        },
        "outputId": "808a6964-468e-489f-fb4e-ee63c47789a1"
      },
      "source": [
        "(x_train, y_train), (x_test, y_test) = keras.datasets.mnist.load_data()\n",
        "\n",
        "print(\"x_train shape:\", x_train.shape, \"y_train shape:\", y_train.shape)"
      ],
      "execution_count": 3,
      "outputs": [
        {
          "output_type": "stream",
          "text": [
            "Downloading data from https://storage.googleapis.com/tensorflow/tf-keras-datasets/mnist.npz\n",
            "11493376/11490434 [==============================] - 0s 0us/step\n",
            "x_train shape: (60000, 28, 28) y_train shape: (60000,)\n"
          ],
          "name": "stdout"
        }
      ]
    },
    {
      "cell_type": "markdown",
      "metadata": {
        "id": "0P1C_0ZXux7N",
        "colab_type": "text"
      },
      "source": [
        "### Preprocess data\n",
        "Next we will reshape the input image from 28x28 to 28x28x1, normalize it and one-hot encode the labels."
      ]
    },
    {
      "cell_type": "code",
      "metadata": {
        "id": "Ge0HvdoBuLg9",
        "colab_type": "code",
        "colab": {
          "base_uri": "https://localhost:8080/",
          "height": 35
        },
        "outputId": "6e7c4f63-ebbf-4ac0-92c2-95b72f9ad620"
      },
      "source": [
        "num_classes = 10\n",
        "x_train = x_train.astype('float32')\n",
        "x_test = x_test.astype('float32')\n",
        "\n",
        "# Normalize the input data\n",
        "x_train = x_train.astype('float32') / 255\n",
        "x_test = x_test.astype('float32') / 255\n",
        "\n",
        "# Reshape input data from (28, 28) to (28, 28, 1)\n",
        "w, h = 28, 28\n",
        "x_train = x_train.reshape(x_train.shape[0], w, h, 1)\n",
        "x_test = x_test.reshape(x_test.shape[0], w, h, 1)\n",
        "\n",
        "# One-hot encode the labels\n",
        "y_train = keras.utils.to_categorical(y_train, 10)\n",
        "y_test = keras.utils.to_categorical(y_test, 10)\n",
        "\n",
        "# Take a look at the dataset shape after conversion with keras.utils.to_categorical\n",
        "print(\"x_train shape:\", x_train.shape, \"y_train shape:\", y_train.shape)"
      ],
      "execution_count": 4,
      "outputs": [
        {
          "output_type": "stream",
          "text": [
            "x_train shape: (60000, 28, 28, 1) y_train shape: (60000, 10)\n"
          ],
          "name": "stdout"
        }
      ]
    },
    {
      "cell_type": "markdown",
      "metadata": {
        "id": "4mlybelBbT0r",
        "colab_type": "text"
      },
      "source": [
        "## Model training"
      ]
    },
    {
      "cell_type": "markdown",
      "metadata": {
        "id": "JEkp9ZrNwCl0",
        "colab_type": "text"
      },
      "source": [
        "### Define the model architecture\n",
        "\n",
        "There are 3 ways to define a model in tf.Keras:\n",
        "1. Sequential model API\n",
        "2. Functional API\n",
        "3. Model subclassing\n",
        "\n",
        "We will create a simple Convolutional Neural Network with tf.Keras Sequential model API."
      ]
    },
    {
      "cell_type": "code",
      "metadata": {
        "id": "PcJmINMbvJNI",
        "colab_type": "code",
        "colab": {}
      },
      "source": [
        "def create_model():\n",
        "  \n",
        "  # Define the model architecture\n",
        "  model = keras.models.Sequential([\n",
        "    # Must define the input shape in the first layer of the neural network\n",
        "    keras.layers.Conv2D(filters=32, kernel_size=3, padding='same', activation='relu', input_shape=(28,28,1)),\n",
        "    keras.layers.MaxPooling2D(pool_size=2),\n",
        "    keras.layers.Dropout(0.3),\n",
        "\n",
        "    keras.layers.Conv2D(filters=64, kernel_size=3, padding='same', activation='relu'),\n",
        "    keras.layers.MaxPooling2D(pool_size=2),\n",
        "    keras.layers.Dropout(0.3),\n",
        "\n",
        "    keras.layers.Flatten(),\n",
        "    keras.layers.Dense(128, activation='relu'),\n",
        "    keras.layers.Dropout(0.5),\n",
        "    keras.layers.Dense(10, activation='softmax')\n",
        "  ])\n",
        "  \n",
        "  # Compile the model\n",
        "  model.compile(loss=keras.losses.categorical_crossentropy,\n",
        "         optimizer=keras.optimizers.Adam(),\n",
        "         metrics=['accuracy'])\n",
        "      \n",
        "  return model"
      ],
      "execution_count": 0,
      "outputs": []
    },
    {
      "cell_type": "markdown",
      "metadata": {
        "id": "RVkPFj5D_qRy",
        "colab_type": "text"
      },
      "source": [
        "### Inspect the model architecture\n",
        "Let's take a look at the model architecture"
      ]
    },
    {
      "cell_type": "code",
      "metadata": {
        "id": "y_ohfbxK-wJH",
        "colab_type": "code",
        "colab": {
          "base_uri": "https://localhost:8080/",
          "height": 501
        },
        "outputId": "b24105b4-cc3e-4d89-cd88-d7cf7bd29124"
      },
      "source": [
        "model = create_model()\n",
        "\n",
        "# Take a look at the model summary\n",
        "model.summary()"
      ],
      "execution_count": 6,
      "outputs": [
        {
          "output_type": "stream",
          "text": [
            "Model: \"sequential\"\n",
            "_________________________________________________________________\n",
            "Layer (type)                 Output Shape              Param #   \n",
            "=================================================================\n",
            "conv2d (Conv2D)              (None, 28, 28, 32)        320       \n",
            "_________________________________________________________________\n",
            "max_pooling2d (MaxPooling2D) (None, 14, 14, 32)        0         \n",
            "_________________________________________________________________\n",
            "dropout (Dropout)            (None, 14, 14, 32)        0         \n",
            "_________________________________________________________________\n",
            "conv2d_1 (Conv2D)            (None, 14, 14, 64)        18496     \n",
            "_________________________________________________________________\n",
            "max_pooling2d_1 (MaxPooling2 (None, 7, 7, 64)          0         \n",
            "_________________________________________________________________\n",
            "dropout_1 (Dropout)          (None, 7, 7, 64)          0         \n",
            "_________________________________________________________________\n",
            "flatten (Flatten)            (None, 3136)              0         \n",
            "_________________________________________________________________\n",
            "dense (Dense)                (None, 128)               401536    \n",
            "_________________________________________________________________\n",
            "dropout_2 (Dropout)          (None, 128)               0         \n",
            "_________________________________________________________________\n",
            "dense_1 (Dense)              (None, 10)                1290      \n",
            "=================================================================\n",
            "Total params: 421,642\n",
            "Trainable params: 421,642\n",
            "Non-trainable params: 0\n",
            "_________________________________________________________________\n"
          ],
          "name": "stdout"
        }
      ]
    },
    {
      "cell_type": "markdown",
      "metadata": {
        "id": "o94eQubW6EMb",
        "colab_type": "text"
      },
      "source": [
        "### Train the model"
      ]
    },
    {
      "cell_type": "code",
      "metadata": {
        "id": "iLvBMV6ewO8H",
        "colab_type": "code",
        "colab": {
          "base_uri": "https://localhost:8080/",
          "height": 210
        },
        "outputId": "f8818919-7099-4680-97b4-8e62aabe5826"
      },
      "source": [
        "%%time \n",
        "model.fit(x_train,\n",
        "         y_train,\n",
        "         batch_size=64,\n",
        "         epochs=3,\n",
        "         validation_data=(x_test, y_test))"
      ],
      "execution_count": 7,
      "outputs": [
        {
          "output_type": "stream",
          "text": [
            "Train on 60000 samples, validate on 10000 samples\n",
            "Epoch 1/3\n",
            "60000/60000 [==============================] - 8s 135us/sample - loss: 0.2825 - accuracy: 0.9129 - val_loss: 0.0573 - val_accuracy: 0.9829\n",
            "Epoch 2/3\n",
            "60000/60000 [==============================] - 4s 64us/sample - loss: 0.1044 - accuracy: 0.9683 - val_loss: 0.0369 - val_accuracy: 0.9874\n",
            "Epoch 3/3\n",
            "60000/60000 [==============================] - 4s 64us/sample - loss: 0.0830 - accuracy: 0.9755 - val_loss: 0.0338 - val_accuracy: 0.9890\n",
            "CPU times: user 14.3 s, sys: 2.09 s, total: 16.4 s\n",
            "Wall time: 16 s\n"
          ],
          "name": "stdout"
        },
        {
          "output_type": "execute_result",
          "data": {
            "text/plain": [
              "<tensorflow.python.keras.callbacks.History at 0x7f97db687a20>"
            ]
          },
          "metadata": {
            "tags": []
          },
          "execution_count": 7
        }
      ]
    },
    {
      "cell_type": "markdown",
      "metadata": {
        "id": "ueEWfvF1bSZX",
        "colab_type": "text"
      },
      "source": [
        "## Model conversion\n",
        "Note in TensorFlow 2.0 you can convert a trained Keras model directly to a TFLite model and there is no need to save a Keras model first."
      ]
    },
    {
      "cell_type": "markdown",
      "metadata": {
        "id": "1x0Cxiyb25KA",
        "colab_type": "text"
      },
      "source": [
        "### S̶a̶v̶e̶ ̶a̶ ̶K̶e̶r̶a̶s̶ ̶m̶o̶d̶e̶l̶ (not needed in TF 2.0)\n",
        "W̶e̶ ̶w̶i̶l̶l̶ ̶u̶s̶e̶ ̶t̶h̶e̶ ̶s̶a̶v̶e̶_̶m̶o̶d̶e̶l̶(̶)̶ ̶m̶e̶t̶h̶o̶d̶ ̶t̶o̶ ̶s̶a̶v̶e̶ ̶a̶ ̶K̶e̶r̶a̶s̶ ̶m̶o̶d̶e̶l̶ ̶i̶n̶ ̶.̶h̶5̶ ̶f̶o̶r̶m̶a̶t̶"
      ]
    },
    {
      "cell_type": "code",
      "metadata": {
        "id": "ScdmzQPcwftI",
        "colab_type": "code",
        "colab": {}
      },
      "source": [
        "# Save tf.keras model in HDF5 format\n",
        "# keras_model = \"mnist_keras_model.h5\"\n",
        "# keras.models.save_model(model, keras_model)"
      ],
      "execution_count": 0,
      "outputs": []
    },
    {
      "cell_type": "markdown",
      "metadata": {
        "id": "yi9B0yFR5J1b",
        "colab_type": "text"
      },
      "source": [
        " ### Convert Keras model to TensorFlow Lite\n",
        " \n",
        " Now let's convert the Keras model to TensorFlow Lite format. \n",
        " \n",
        " It is recommended that you do the model conversion through Python code; however, in case you don't have access to your model code, you can also convert the model through command line. "
      ]
    },
    {
      "cell_type": "code",
      "metadata": {
        "id": "pI8SeGfl3F4C",
        "colab_type": "code",
        "colab": {
          "base_uri": "https://localhost:8080/",
          "height": 35
        },
        "outputId": "12efc5a1-da92-46f7-9764-a08da2656d62"
      },
      "source": [
        "from datetime import date\n",
        "\n",
        "# converter = tf.lite.TFLiteConverter.from_keras_model_file(keras_model) # TF 1.x\n",
        "converter = tf.lite.TFLiteConverter.from_keras_model(model) # TF 2.x\n",
        "tflite_model = converter.convert()\n",
        "tflite_model_file_name = \"mnist_\" + tf.__version__ + \"_\" + str(date.today()) + \".tflite\"\n",
        "open(tflite_model_file_name, \"wb\").write(tflite_model)"
      ],
      "execution_count": 11,
      "outputs": [
        {
          "output_type": "execute_result",
          "data": {
            "text/plain": [
              "1688972"
            ]
          },
          "metadata": {
            "tags": []
          },
          "execution_count": 11
        }
      ]
    },
    {
      "cell_type": "markdown",
      "metadata": {
        "id": "2lrX0Bj97jor",
        "colab_type": "text"
      },
      "source": [
        "### Download the tflite model for Android\n",
        "Let's verify the tflite model has been generated and download it to use in your mobile app such as Android."
      ]
    },
    {
      "cell_type": "code",
      "metadata": {
        "id": "o2vfLYC17c_o",
        "colab_type": "code",
        "colab": {
          "base_uri": "https://localhost:8080/",
          "height": 86
        },
        "outputId": "a73507f9-049c-4c1c-8697-d44a5e79b980"
      },
      "source": [
        "# Take a look at the files in the directory\n",
        "# Or you can see them under Colab \"Files\" tab\n",
        "import os\n",
        "os.listdir(\".\")"
      ],
      "execution_count": 13,
      "outputs": [
        {
          "output_type": "execute_result",
          "data": {
            "text/plain": [
              "['.config',\n",
              " '.ipynb_checkpoints',\n",
              " 'mnist_2.0.0_2019-11-06.tflite',\n",
              " 'sample_data']"
            ]
          },
          "metadata": {
            "tags": []
          },
          "execution_count": 13
        }
      ]
    },
    {
      "cell_type": "code",
      "metadata": {
        "id": "aEyS9vie7dbv",
        "colab_type": "code",
        "colab": {}
      },
      "source": [
        "# Download the .tflite model file for deployment to mobile\n",
        "from google.colab import files\n",
        "files.download(tflite_model_file_name) "
      ],
      "execution_count": 0,
      "outputs": []
    }
  ]
}